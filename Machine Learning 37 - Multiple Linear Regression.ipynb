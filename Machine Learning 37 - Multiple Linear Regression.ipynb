{
 "cells": [
  {
   "cell_type": "markdown",
   "id": "573deaee",
   "metadata": {},
   "source": [
    "<h1 style=\"font-size:250%; font-family:cursive; \"><b>Multiple Linear Regression - Intuition and sklearn model - Detailed Video in my YouTube Channel</b><a id=\"0\"></a></h1>\n",
    "\n",
    "\n",
    "<a href=\"https://youtu.be/wDmAqiuUWjI\"><h1 style=\"font-size:250%; font-family:cursive; color:#ff6666;\"><b>Link to this Video Tutorial</b></h1></a>"
   ]
  },
  {
   "cell_type": "markdown",
   "id": "4ea324b8",
   "metadata": {},
   "source": [
    "# Multiple Linear Regression\n",
    "![types](multi.png)"
   ]
  },
  {
   "cell_type": "code",
   "execution_count": 1,
   "id": "301e0a70",
   "metadata": {},
   "outputs": [],
   "source": [
    "import warnings\n",
    "warnings.filterwarnings('ignore')"
   ]
  },
  {
   "cell_type": "markdown",
   "id": "c67bf63f",
   "metadata": {},
   "source": [
    "# The Ordinary Least Squares (OLS) Method"
   ]
  },
  {
   "cell_type": "code",
   "execution_count": 2,
   "id": "168572a4",
   "metadata": {},
   "outputs": [],
   "source": [
    "import numpy as np\n",
    "import pandas as pd\n",
    "import statsmodels.api as sm\n",
    "# Example dataset\n",
    "data = {\n",
    "'X1': [1, 2, 3, 4, 5],\n",
    "'X2': [2, 3, 4, 5, 6],\n",
    "'Y': [2, 3, 4, 5, 6]\n",
    "}\n",
    "df = pd.DataFrame(data)\n",
    "\n",
    "\n"
   ]
  },
  {
   "cell_type": "code",
   "execution_count": 4,
   "id": "df30c163",
   "metadata": {},
   "outputs": [],
   "source": [
    "# Add intercept term to independent variables\n",
    "X = sm.add_constant(df[['X1', 'X2']])\n",
    "y = df['Y']"
   ]
  },
  {
   "cell_type": "code",
   "execution_count": 5,
   "id": "1095ddc7",
   "metadata": {},
   "outputs": [],
   "source": [
    "# Fit OLS model\n",
    "model = sm.OLS(y, X).fit()"
   ]
  },
  {
   "cell_type": "code",
   "execution_count": 6,
   "id": "56aa99f7",
   "metadata": {},
   "outputs": [
    {
     "name": "stdout",
     "output_type": "stream",
     "text": [
      "                            OLS Regression Results                            \n",
      "==============================================================================\n",
      "Dep. Variable:                      Y   R-squared:                       1.000\n",
      "Model:                            OLS   Adj. R-squared:                  1.000\n",
      "Method:                 Least Squares   F-statistic:                 3.977e+30\n",
      "Date:                Wed, 09 Oct 2024   Prob (F-statistic):           2.78e-46\n",
      "Time:                        17:32:07   Log-Likelihood:                 164.57\n",
      "No. Observations:                   5   AIC:                            -325.1\n",
      "Df Residuals:                       3   BIC:                            -325.9\n",
      "Df Model:                           1                                         \n",
      "Covariance Type:            nonrobust                                         \n",
      "==============================================================================\n",
      "                 coef    std err          t      P>|t|      [0.025      0.975]\n",
      "------------------------------------------------------------------------------\n",
      "const          0.3333   1.26e-15   2.64e+14      0.000       0.333       0.333\n",
      "X1             0.3333   8.69e-16   3.84e+14      0.000       0.333       0.333\n",
      "X2             0.6667   4.09e-16   1.63e+15      0.000       0.667       0.667\n",
      "==============================================================================\n",
      "Omnibus:                          nan   Durbin-Watson:                   0.033\n",
      "Prob(Omnibus):                    nan   Jarque-Bera (JB):                0.545\n",
      "Skew:                          -0.111   Prob(JB):                        0.762\n",
      "Kurtosis:                       1.398   Cond. No.                     1.77e+16\n",
      "==============================================================================\n",
      "\n",
      "Notes:\n",
      "[1] Standard Errors assume that the covariance matrix of the errors is correctly specified.\n",
      "[2] The smallest eigenvalue is 4.75e-31. This might indicate that there are\n",
      "strong multicollinearity problems or that the design matrix is singular.\n"
     ]
    },
    {
     "name": "stderr",
     "output_type": "stream",
     "text": [
      "C:\\Users\\AJANTHA\\anaconda3\\lib\\site-packages\\statsmodels\\stats\\stattools.py:74: ValueWarning: omni_normtest is not valid with less than 8 observations; 5 samples were given.\n",
      "  warn(\"omni_normtest is not valid with less than 8 observations; %i \"\n"
     ]
    }
   ],
   "source": [
    "# Print summary of the model\n",
    "print(model.summary())"
   ]
  },
  {
   "cell_type": "markdown",
   "id": "5560ac7e",
   "metadata": {},
   "source": [
    "# Gradient Descent Method"
   ]
  },
  {
   "cell_type": "code",
   "execution_count": 7,
   "id": "5cd84fa8",
   "metadata": {},
   "outputs": [],
   "source": [
    "import numpy as np\n",
    "import matplotlib.pyplot as plt\n",
    "# Generate example data\n",
    "X = 2 * np.random.rand(100, 1)\n",
    "y = 4 + 3 * X + np.random.randn(100, 1)\n",
    "# Add intercept term to independent variables\n",
    "X_b = np.c_[np.ones((100, 1)), X]\n",
    "\n"
   ]
  },
  {
   "cell_type": "code",
   "execution_count": null,
   "id": "b0fb580d",
   "metadata": {},
   "outputs": [],
   "source": []
  },
  {
   "cell_type": "code",
   "execution_count": 8,
   "id": "31150cf5",
   "metadata": {},
   "outputs": [],
   "source": [
    "# Gradient Descent parameters\n",
    "eta = 0.1 # Learning rate\n",
    "n_iterations = 1000\n",
    "m = 100 # Number of data points\n",
    "\n",
    "# Random initialization of coefficients\n",
    "theta = np.random.randn(2, 1)"
   ]
  },
  {
   "cell_type": "code",
   "execution_count": 9,
   "id": "31746216",
   "metadata": {},
   "outputs": [
    {
     "name": "stdout",
     "output_type": "stream",
     "text": [
      "Intercept: 4.145008545882689\n",
      "Slope: 2.8506335996370953\n"
     ]
    }
   ],
   "source": [
    "# Gradient Descent\n",
    "for iteration in range(n_iterations):\n",
    "    gradients = 2/m * X_b.T.dot(X_b.dot(theta) - y)\n",
    "    theta -= eta * gradients\n",
    "\n",
    "# Print final coefficients\n",
    "print(\"Intercept:\", theta[0][0])\n",
    "print(\"Slope:\", theta[1][0])"
   ]
  },
  {
   "cell_type": "code",
   "execution_count": 10,
   "id": "7d76de79",
   "metadata": {},
   "outputs": [
    {
     "data": {
      "image/png": "[encoded data removed]",
      "text/plain": [
       "<Figure size 432x288 with 1 Axes>"
      ]
     },
     "metadata": {
      "needs_background": "light"
     },
     "output_type": "display_data"
    }
   ],
   "source": [
    "# Plot data points\n",
    "plt.scatter(X, y, color='blue', label='Data Points')\n",
    "# Plot regression line\n",
    "X_new = np.array([[0], [2]])\n",
    "X_new_b = np.c_[np.ones((2, 1)), X_new]\n",
    "y_predict = X_new_b.dot(theta)\n",
    "plt.plot(X_new, y_predict, color='red', label='Regression Line')\n",
    "plt.xlabel('X')\n",
    "plt.ylabel('y')\n",
    "plt.title('Gradient Descent Linear Regression')\n",
    "plt.legend()\n",
    "plt.show()"
   ]
  },
  {
   "cell_type": "markdown",
   "id": "82b3baf7",
   "metadata": {},
   "source": [
    "# Matrix Inversion Method"
   ]
  },
  {
   "cell_type": "code",
   "execution_count": 11,
   "id": "9dbf0af3",
   "metadata": {},
   "outputs": [],
   "source": [
    "import numpy as np\n",
    "import matplotlib.pyplot as plt\n",
    "# Generate synthetic dataset\n",
    "X = 2 * np.random.rand(100, 1)\n",
    "y = 4 + 3 * X + np.random.randn(100, 1)\n",
    "\n"
   ]
  },
  {
   "cell_type": "code",
   "execution_count": 12,
   "id": "da7d86a9",
   "metadata": {},
   "outputs": [],
   "source": [
    "# Add intercept term to feature matrix\n",
    "X_b = np.c_[np.ones((100, 1)), X]\n",
    "# Compute coefficients using matrix inversion method\n",
    "theta_best = np.linalg.inv(X_b.T.dot(X_b)).dot(X_b.T).dot(y)\n"
   ]
  },
  {
   "cell_type": "code",
   "execution_count": 13,
   "id": "4f290005",
   "metadata": {},
   "outputs": [
    {
     "name": "stdout",
     "output_type": "stream",
     "text": [
      "Intercept: 4.103032034728241\n",
      "Slope: 2.898379931833041\n"
     ]
    }
   ],
   "source": [
    "\n",
    "# Print final coefficients\n",
    "print(\"Intercept:\", theta_best[0][0])\n",
    "print(\"Slope:\", theta_best[1][0])"
   ]
  },
  {
   "cell_type": "code",
   "execution_count": 14,
   "id": "5fe5b892",
   "metadata": {},
   "outputs": [
    {
     "data": {
      "image/png": "[encoded data removed]",
      "text/plain": [
       "<Figure size 432x288 with 1 Axes>"
      ]
     },
     "metadata": {
      "needs_background": "light"
     },
     "output_type": "display_data"
    }
   ],
   "source": [
    "# Plot data points\n",
    "plt.scatter(X, y, color='blue', label='Data Points')\n",
    "# Plot regression line\n",
    "X_new = np.array([[0], [2]])\n",
    "X_new_b = np.c_[np.ones((2, 1)), X_new]\n",
    "y_predict = X_new_b.dot(theta_best)\n",
    "plt.plot(X_new, y_predict, color='red', label='Regression Line')\n",
    "plt.xlabel('X')\n",
    "plt.ylabel('y')\n",
    "plt.title('Multiple Linear Regression with Matrix Inversion Method')\n",
    "plt.legend()\n",
    "plt.show()"
   ]
  },
  {
   "cell_type": "code",
   "execution_count": null,
   "id": "1fb1bda6",
   "metadata": {},
   "outputs": [],
   "source": []
  },
  {
   "cell_type": "code",
   "execution_count": null,
   "id": "86915a5e",
   "metadata": {},
   "outputs": [],
   "source": []
  }
 ],
 "metadata": {
  "kernelspec": {
   "display_name": "Python 3 (ipykernel)",
   "language": "python",
   "name": "python3"
  },
  "language_info": {
   "codemirror_mode": {
    "name": "ipython",
    "version": 3
   },
   "file_extension": ".py",
   "mimetype": "text/x-python",
   "name": "python",
   "nbconvert_exporter": "python",
   "pygments_lexer": "ipython3",
   "version": "3.9.7"
  }
 },
 "nbformat": 4,
 "nbformat_minor": 5
}
